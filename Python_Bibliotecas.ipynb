{
 "cells": [
  {
   "cell_type": "markdown",
   "metadata": {},
   "source": [
    "# Entorno Python y Notebooks de Jupyter\n"
   ]
  },
  {
   "cell_type": "markdown",
   "metadata": {},
   "source": [
    "El lenguaje de programación de python es interpretado y de alto nivel, conocido por su sencillez y legibilidad [10]. Los aspectos clave de este lenguaje son su simplicidad, su sintaxis resulta comparativamente más sencilla que otras y permite expresar algoritmos con menos lineas de código. Destaca tambien por ser un idioma que se ejecuta linea a linea, esto ayuda a la depuración de errores. Por otro lado, la respalda una amplia comunidad que desarrolla bibliotecas y nuevos frameworks como numpy y matplotlib, o los notebooks de Jupyter. Por último y no menos importante, es de software libre, dispone de instaladores gratuitos y es de facil distribución a traves de Git-Hub o Git-Lab.\n",
    "\n",
    "Pasaremos a realizar una breve introducción de los conceptos básicos de python para que el alumnado se familiarice con la sintaxis de este lenguaje y pueda trabajarlo. Se definirán los conceptos más básicos de python, y se entrará más en profundidad con numpy y matplotlib, puesto que nos serán de gran ayuda en el desarrollo de estas prácticas.\n",
    "\n",
    "## Conceptos y sintaxis básica de python\n",
    "\n",
    "En el siguiente cuadro se expondran los principales conceptos de python a modo muy declarativo y conciso. Para una mayor compresión de la metodología de trabajo de python y su sintaxis, véase [10].\n",
    "\n",
    "| Concepto          | Ejemplo                            | Descripción                                                         |\n",
    "|-------------------|------------------------------------|---------------------------------------------------------------------|\n",
    "| Comentarios       | `# Esto es un comentario`          | Se utiliza para incluir comentarios en el código.                   |\n",
    "| Variables         | `x = 5`                            | Se utiliza para almacenar datos.                                    |\n",
    "| Tipos de datos    | `int`, `float`, `str`, `bool`      | Representan diferentes tipos de valores.                            |\n",
    "| Operadores        | `+`, `-`, `*`, `/`, `==`, `!=`     | Se utilizan para realizar operaciones aritméticas y lógicas.        |\n",
    "| Condicionales     | `if`, `elif`, `else`               | Se utilizan para ejecutar código condicionalmente.                  |\n",
    "| Bucles            | `for`, `while`                     | Se utilizan para repetir bloques de código.                         |\n",
    "| Funciones         | `def`, `return`                    | Se utilizan para encapsular y reutilizar bloques de código.         |\n",
    "| Listas            | `[1, 2, 3]`                        | Se utilizan para almacenar una colección de elementos ordenados.    |\n",
    "| Tuplas            | `(1, 2, 3)`                        | Son similares a las listas pero son inmutables.                     |\n",
    "| Diccionarios      | `{'clave': 'valor'}`               | Se utilizan para almacenar pares clave-valor.                       |\n",
    "| Métodos de cadena | `split()`, `join()`, `replace()`   | Se utilizan para manipular cadenas de texto.                        |\n",
    "| Importaciones     | `import modulo`                    | Se utiliza para importar módulos y funciones externas.              |\n",
    "| Excepciones       | `try`, `except`, `finally`         | Se utilizan para manejar errores y excepciones.                     |\n",
    "\n",
    "## Biblioteca Numpy\n",
    "\n",
    "Numpy se especializa en el cálculo numérica y el análisis de datos, especialmente cuando son de gran volumen. En vez de las clásicas listas definidas en Python, Numpy incorpora una nueva clase de objeto llamada array que permite representar colecciones de datos en varias dimensiones y de manera extremadamente eficaz. Esto lo hace muy ideal para el desarrollo de matrices y vectores.\n",
    "\n",
    "| Función         | Aplicación                                                    | Ejemplo                                    | Resultado                                  |\n",
    "|-----------------|---------------------------------------------------------------|--------------------------------------------|--------------------------------------------|\n",
    "| `np.array`      | Crea un arreglo de NumPy                                      | `np.array([1, 2, 3])`                      | `[1 2 3]`                                  |\n",
    "| `np.arange`     | Genera un arreglo con valores en un rango especificado        | `np.arange(0, 10, 2)`                      | `[0 2 4 6 8]`                              |\n",
    "| `np.linspace`   | Genera números equidistantes en un intervalo específico       | `np.linspace(0, 1, 5)`                     | `[0.   0.25 0.5  0.75 1.  ]`               |\n",
    "| `np.zeros`      | Crea un arreglo de ceros                                      | `np.zeros((2, 2))`                         | `[[0. 0.] [0. 0.]]`                      |\n",
    "| `np.ones`       | Crea un arreglo de unos                                       | `np.ones((2, 2))`                          | `[[1. 1.] [1. 1.]]`                      |\n",
    "| `np.eye`        | Crea una matriz identidad                                     | `np.eye(3)`                                | `[[1. 0. 0.][0. 1. 0.][0. 0. 1.]]`   |\n",
    "| `np.mean`       | Calcula la media de los elementos del arreglo                 | `np.mean([1, 2, 3, 4])`                    | `2.5`                                      |\n",
    "| `np.median`     | Calcula la mediana de los elementos del arreglo               | `np.median([1, 2, 3, 4, 5])`               | `3.0`                                      |\n",
    "| `np.std`        | Calcula la desviación estándar de los elementos del arreglo   | `np.std([1, 2, 3, 4])`                     | `1.12`                        |\n",
    "\n",
    "Para acceder a los elementos de un array de cualquier dimensión se tiene que tener en cuenta varios aspectos. Usamos índices, del mismo modo que se utilizan para una lista convencional de Python, pero, hay que indicar los índices de cada dimensión, separados por una coma. Los índices comienzan en 0.\n",
    "\n",
    "Por otro lado, podemos filtrar elemenos de nuestro array con condicionales, para que devuleva el valor de los elementos que cumplen una cierta condición.\n",
    "\n",
    "El siguiente ejemplo muestra lo que se acaba de exponer:\n",
    "\n"
   ]
  },
  {
   "cell_type": "code",
   "execution_count": 11,
   "metadata": {},
   "outputs": [
    {
     "name": "stdout",
     "output_type": "stream",
     "text": [
      "4\n",
      "4\n",
      "[[1 2]\n",
      " [4 5]]\n",
      "[2 4 6]\n"
     ]
    }
   ],
   "source": [
    "import numpy as np\n",
    "\n",
    "#Elemenos:\n",
    "a = np.array([[1, 2, 3], [4, 5, 6]])\n",
    "print(a[1, 0])  # Acceso al elemento de la fila 1 y la columna 0\n",
    "#O de forma alternativa, se puede recuperar el elemento de la fila 1 y columna 0 como:\n",
    "print(a[1][0])\n",
    "\n",
    "#Subarrays:\n",
    "print(a[:, 0:2])\n",
    "#La parte de la izquierda de los ':' hace referencia a las filas, y la derecha a las columnas. Así, estamos seleccionando todas las filas, y las columnas 0 y 1, excluyendo la 2.\n",
    "\n",
    "#Condicionales:\n",
    "print(a[(a % 2 == 0)])\n",
    "#Esto devuelvo los elementos de nuestro array que sean divisibles enteros entre 2"
   ]
  },
  {
   "cell_type": "markdown",
   "metadata": {},
   "source": [
    "Para nuestro estudio de las prácticas con estas funciones y caracteristicas de numpy es más que suficiente. Sin embargo, numpy es una herramiento muy poderaso para el mundo físico- matemático, puesto que cuenta con funcionalidades muy eficientes del cáclculo matricial como: cálculo de autovectores y autovalores, solución de sistemas de ecuaciones, y cálculo de matrices inversas."
   ]
  },
  {
   "cell_type": "markdown",
   "metadata": {},
   "source": [
    "## Biblioteca matplotlib\n",
    "\n",
    "Matplotlib es una librería de Python diseñada especificamente para la creación y visualización de gráficos en dos dimensiones. Entre los gráficos que permite realizar esta libreria destacan los diagramas de barras, histogramas, diagramas de sectores, diagramas de líneas y áreas, mapas de color y más.\n",
    "\n",
    "| Gráfico                     | Aplicación                                                                |\n",
    "|-----------------------------|----------------------------------------------------------------------------|\n",
    "| Línea            |  Canbios en los valores de los datos a lo largo de nuestras variables.               |\n",
    "| Dispersión       | Relación entre dos variables que nos interesen.                      |\n",
    "|  Barras           | Comparar valores en forma de barras entre varias categorías.                              |\n",
    "| Histograma                  | Representar la distribución en frecuencia de una variable.         |\n",
    "|  Área             | Relación entre conjuntos de valores. |\n",
    "\n",
    "El que más usaremos para el desarrollo de nuestras prácticas será el de líneas, pero el alumno puede decidir usar otro tipo de gráfico si lo considera necesario para sus objetivos concretos.\n",
    "\n",
    "Los diagramas de líneas los usaremos para dibujar un poligono con sus vértices en las coordenadas de abscisas y ordenadas que le indiquemos. El comando es el siguiente: plot(x, y), donde x e y son listas de datos que queramos representar. Los argumentos que puede tomar la función plot son:\n",
    "\n",
    "- **x**: (Obligatorio) Un arreglo o lista de datos que representan la variable que ocupará el eje X\n",
    "\n",
    "- **y**: (Obligatorio) Un arreglo o lista de datos que representan la variable que ocupará el eje Y\n",
    "\n",
    "- **color**: Color que se representará el gráfico . Ejemplo es 'blue', siempre en inglés.\n",
    "\n",
    "- **linewidth (lw)**:  Ancho de la línea en puntos.\n",
    "\n",
    "- **linestyle (ls)**:  Estilo de la línea del grafico. Puede ser \"-\", \"--\", \"-.\", \":\"\n",
    "\n",
    "- **marker**: Especifica el marcador utilizado para los valores experimentales.\n",
    "\n",
    "- **label**: Etiqueta que se mostrará en la leyenda.\n",
    "\n",
    "Por otro lado, con esta libreria podemos definir la leyenda, el nombre de los ejes X e Y, así como el segmento de eje a representar, si el gráfico lleva cuadrícula o no, y el título de la figura. Se muestra todo esto en un ejemplo, a continuación:\n",
    "\n",
    "\n"
   ]
  },
  {
   "cell_type": "code",
   "execution_count": 12,
   "metadata": {},
   "outputs": [
    {
     "data": {
      "image/png": "[encoded data removed]",
      "text/plain": [
       "<Figure size 400x200 with 1 Axes>"
      ]
     },
     "metadata": {},
     "output_type": "display_data"
    }
   ],
   "source": [
    "import matplotlib.pyplot as plt\n",
    "\n",
    "x=[2,3,4,7,9]\n",
    "y=[4,9,16,49,81]\n",
    "\n",
    "plt.figure(figsize=(4, 2))   \n",
    "plt.plot(x,y, label='Valores')\n",
    "plt.xlim(0, 12)\n",
    "plt.xlabel('Eje X')\n",
    "plt.ylabel('Eje Y')\n",
    "plt.legend(loc=1)\n",
    "plt.grid()\n",
    "plt.title('Título del gráfico')\n",
    "plt.show()"
   ]
  },
  {
   "cell_type": "markdown",
   "metadata": {},
   "source": [
    "# Guía de funciones y algoritmos para el desarrollo de las prácticas"
   ]
  },
  {
   "cell_type": "markdown",
   "metadata": {},
   "source": [
    "En esta sección se van a mostrar los algoritmos más caracteristicos que se desarrollaron para el alumnado. Posteriormente, haremos un análisis de los términos y formas que podemos modificar dichos algoritmos con el fin de conseguir unas cosas u otras. El alumando tiene que prestar especial atención a esta guia para modificar funciones o para crear nuevas y así poder realizar la práctica usando estas funciones como piezas de lego para construir las gráficas. Resaltar también que, habrá dos tipos de definiciones de funciones, la primera será de cálculo o numérica, por ejemplo la DFT, la funcioón de transferencia teórica o la función de carga y descarga del condesandor. En esta usaremos la biblioteca numpy, principalmente.\n",
    "\n",
    "Por otro lado, habra un segundo tipo de funciones que se emplearán para graficar y constuir funciones. La biblioteca y funcionalidades que usaremos serán las de matplotlib. Empezaremos resaltando algunas de las funciones del primer tipo, las de cálculo.\n",
    "\n"
   ]
  },
  {
   "cell_type": "markdown",
   "metadata": {},
   "source": [
    "El primer algoritmo y más imprescindible para esta práctica es el de la DFT, hay varias formas de definirla, de manera más y menos eficiente, incluso numpy tiene una función predefinida que calcula todo lo necesario relacionada con esta DFT. El alumno elegirá la que más le convenga. En nuestro caso hemos optado por una definición vectorial con un bucle for para calcular cada componente de la DFT de una función dada. A continuación la mostramos:"
   ]
  },
  {
   "cell_type": "code",
   "execution_count": 13,
   "metadata": {},
   "outputs": [],
   "source": [
    "import matplotlib.pyplot as plt\n",
    "import numpy as np\n",
    "from numpy import pi\n",
    "\n",
    "def dft(vs, dt):\n",
    "    ns = len(vs)\n",
    "    ks = np.arange(ns)\n",
    "    ns_coef = np.arange(ns)\n",
    "    vsdf = np.zeros(ns, dtype=complex)\n",
    "    \n",
    "    for k in ks:\n",
    "        vsdf[k] = np.sum(vs * np.exp(-1j * 2 * np.pi * ns_coef * k / ns) * dt)\n",
    "    \n",
    "    return vsdf\n"
   ]
  },
  {
   "cell_type": "markdown",
   "metadata": {},
   "source": [
    "Poco se puede modificar de este algoritmo asi que pasaremos al siguiente. Este algoritmo calcula los parámetros de la frecuencia máxima, el número total de muestras y el espectro en frecuencias asociado, cuando le pasamos una lista de tmax y dt (tiempo máximo y periodo de muestreo)."
   ]
  },
  {
   "cell_type": "code",
   "execution_count": 14,
   "metadata": {},
   "outputs": [],
   "source": [
    "tmax1 = 1024  # Duración total de las señales en segundos\n",
    "tmax2 = 512\n",
    "dt = 2 #Intervalo de muestreo\n",
    "\n",
    "def calcular_parametros(*args):\n",
    "    \"\"\" \n",
    "    - *args: Lista de tmax y dt.\n",
    "    \"\"\"\n",
    "    resultados = []\n",
    "    \n",
    "    for tmax, dt in args:\n",
    "        ntm = int(tmax/dt)\n",
    "        dftmax = 1/tmax\n",
    "        nfmtm = int(ntm/2 + 1)\n",
    "        frtm = np.arange(0, nfmtm) * dftmax\n",
    "        resultados.append((ntm, dftmax, nfmtm, frtm))\n",
    "    \n",
    "    return resultados\n",
    "\n",
    "resultados = calcular_parametros((tmax1,dt),(tmax2,dt))"
   ]
  },
  {
   "cell_type": "markdown",
   "metadata": {},
   "source": [
    "Este es el código que calculo los parámetros que necesitamos para trabajar en el espectro en frecuencias. Es muy importante prestar atención al parámetros *args, esto es una funcionalidad de Python muy conveniente para nuestro desarrollo de la práctica, puesto que nos permite pasarle cualquier número arbitrario de listas (tmax,dt) y nos la cálcula como una matriz.\n",
    "\n",
    "En resumen, el código define una función a la que se le pueden pasar un número arbitrario de listas y este, con el bucle for y ese número concreto de tmax y dt, calcula los parametros.\n",
    "\n",
    "Para recuperar los valores que hemos calculado tenemos que llamar a la variable resultados, y especificar que parametro queremos recuperar (ntm, dftmax, nfmtm, frtm) así como que vector es el que queremos recuperar, (tmax1,dt) o (tmax2,dt).\n",
    "\n",
    "Como ejemplo ilustrativo, si queremos recuperar el valor de las frecuencias para tmax2, hariamos lo siguiente:\n"
   ]
  },
  {
   "cell_type": "code",
   "execution_count": 15,
   "metadata": {},
   "outputs": [],
   "source": [
    "# resultados[1][3]"
   ]
  },
  {
   "cell_type": "markdown",
   "metadata": {},
   "source": [
    "Quedan varias funciones numéricas por explicar, como por ejemplo la definición de pulso rectangular o de carga y descarga del condesador. Las dejamos sin explicar porque consideramos que el alumando debe ser capaz de realizarlas por su cuenta y comprobar con herramientas en linea y con cálculos de Python sencillo si son correctas.\n",
    "\n",
    "Ahora pasamos a las funciones gráficas. Estas tienen un poco más de complejidad y son algo más complicadas de modificar, pero su estructura es muy parecida. En la mayoría de ellas, podemos pasarle a la función un número arbitrario de funciones, con sus frecuncias y otros parámetros y crea las gráficas. Igualmente, en casi todas se ha establecido una función mínima a la que pasarle a la definición que es la función teórica. A continuación quedará mas claro:"
   ]
  },
  {
   "cell_type": "code",
   "execution_count": 16,
   "metadata": {},
   "outputs": [],
   "source": [
    "def graficar_general_N_module(frecsteo, Tteo_pulso, *args):\n",
    "    \"\"\"\n",
    "    Grafica la transformada de Fourier de un pulso de entrada y sus DFTs con respecto a la frecuencia.   \n",
    "    - frecsteo  Frecuencia de muestreo.\n",
    "    - Tteo_pulso  Transformada de Fourier teórica del pulso de entrada.\n",
    "    - *args  Lista de tuplas de la forma (frtm, Tvetm, nfmt)\n",
    "\n",
    "    \"\"\"\n",
    "    plt.figure(figsize=(10, 5))\n",
    "    plt.plot(frecsteo*1E3, abs(Tteo_pulso), c='g', label='DFT Teórica')\n",
    "\n",
    "    for i, (frtm, Tvetm, nfmt) in enumerate(args):\n",
    "        plt.plot(frtm*1E3, np.abs(Tvetm[0:nfmt]), label=f'DFT N={nfmt}', linestyle=['-', '--', '-.', ':'][i % 4])\n",
    "\n",
    "    plt.xlim(0, 10)\n",
    "    plt.xlabel('f (mHz)')\n",
    "    plt.ylabel('DFT (V s)')\n",
    "    plt.legend(loc=1)\n",
    "    plt.grid()\n",
    "    plt.title('Transformada del pulso de entrada')\n",
    "    plt.show()\n",
    "\n",
    "# graficar_general_N_module(frecsteo, Tteo_pulso, (resultados[0][3], Tvetm1, resultados[0][2]), (resultados[1][3], Tvetm2, resultados[1][2]))"
   ]
  },
  {
   "cell_type": "markdown",
   "metadata": {},
   "source": [
    "Esta es la función que grafica el módulo de la transformada de los pulsos que le pasemos. Siempre hay que pasarle las frecuencias teóricas y la transformada del pulso teórica que se hayan calculado con anterioridad. Y despues, tenemos libertad para pasarle una o más funciones experimetales en forma de lista.\n",
    "\n",
    "Esta lista tiene que ser de la forma (frecuencias, transformada, número de muestras). Mirar la última línea y ver el algoritmo anterior de calculo de parámetros para entenderlo. \n",
    "\n",
    "El bucle for de la función itera cada tupla y calcula su gráfica, dentro del bucle se pueden modificar o añadir parámetros como el color, la leyenda, etc. Debajo del bucle se defininen parámetros globales de la gráfica que el alumno puede modificar a su conveniencia y ver los cambios que provoca.\n",
    "\n",
    "El siguiente algoritmo es una versión mejorada pero muy parecida del que se acaba de explicar. Esta nueva función genera, en la misma gráfica, la fase y el módulo de la transformada"
   ]
  },
  {
   "cell_type": "code",
   "execution_count": 17,
   "metadata": {},
   "outputs": [],
   "source": [
    "def graficar_general_N_mod_fase(Tteo_pulso, frecsteo, *args):\n",
    "    fig, axs = plt.subplots(2, 1, figsize=(10, 8))\n",
    "    \n",
    "    # Primero: Magnitud de la DFT\n",
    "    axs[0].plot(frecsteo*1E3, np.abs(Tteo_pulso), c='m', label='DFT Teórica')\n",
    "    for i, (frdt,Tvetm, nfmt, dt) in enumerate(args):\n",
    "        axs[0].plot(frdt*1E3, np.abs(Tvetm[0:nfmt]), label=f'DFT con muestreo dt={dt}', linestyle=['-', '--', '-.', ':'][i % 4])\n",
    "\n",
    "    axs[0].set_xlim(0, 100)\n",
    "    axs[0].set_ylim(0, 300)\n",
    "    axs[0].set_xlabel('f (mHz)')\n",
    "    axs[0].set_ylabel('Magnitud de DFT (V s)')\n",
    "    axs[0].legend(loc=1)\n",
    "    axs[0].grid()\n",
    "    axs[0].set_title('Transformada del voltaje de entrada')\n",
    "\n",
    "    # Segundo: Fase de la DFT\n",
    "    axs[1].plot(frecsteo*1E3, np.angle(Tteo_pulso), c='m', label='DFT Teórica')\n",
    "    for i, (frdt,Tvetm, nfmt, dt) in enumerate(args):\n",
    "        axs[1].plot(frdt*1E3, np.angle(Tvetm[0:nfmt]), label=f'DFT con muestreo dt={dt}', linestyle=['-', '--', '-.', ':'][i % 4])\n",
    "\n",
    "    axs[1].set_xlim(0, 25)\n",
    "    axs[1].set_xlabel('f (mHz)')\n",
    "    axs[1].set_ylabel('Fase de DFT (rad)')\n",
    "    axs[1].legend(loc=2)\n",
    "    axs[1].grid()\n",
    "    axs[1].set_title('Transformada del voltaje de entrada')\n",
    "\n",
    "    plt.tight_layout()\n",
    "    plt.show()\n",
    "\n",
    "# graficar_general_N_mod_fase(Tteo_pulso,frecsteo,(resultados[0][3], Tvetm1, resultados[0][2], dt1),(resultados[1][3], Tvetm2, resultados[1][2], dt2),(resultados[2][3], Tvetm3, resultados[2][2], dt3))\n"
   ]
  },
  {
   "cell_type": "markdown",
   "metadata": {},
   "source": [
    "Igualmente, como se puede ver de la última línea de código, hay que pasarle los mismos parámetros que a la función anterior, y esta se encarga de realizar las gráficas."
   ]
  }
 ],
 "metadata": {
  "kernelspec": {
   "display_name": "Python 3",
   "language": "python",
   "name": "python3"
  },
  "language_info": {
   "codemirror_mode": {
    "name": "ipython",
    "version": 3
   },
   "file_extension": ".py",
   "mimetype": "text/x-python",
   "name": "python",
   "nbconvert_exporter": "python",
   "pygments_lexer": "ipython3",
   "version": "3.12.3"
  }
 },
 "nbformat": 4,
 "nbformat_minor": 2
}
